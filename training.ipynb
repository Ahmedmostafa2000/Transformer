{
 "cells": [
  {
   "cell_type": "code",
   "execution_count": 1,
   "metadata": {},
   "outputs": [],
   "source": [
    "from models import Transformer\n",
    "from \n",
    "import pandas as pd\n",
    "import numpy as np"
   ]
  },
  {
   "cell_type": "code",
   "execution_count": 2,
   "metadata": {},
   "outputs": [],
   "source": [
    "df_train = pd.read_csv('D:/Industry/Projects/Datasets/cnn_dailymail/train.csv')\n",
    "df_valid = pd.read_csv('D:/Industry/Projects/Datasets/cnn_dailymail/validation.csv')"
   ]
  },
  {
   "cell_type": "code",
   "execution_count": 6,
   "metadata": {},
   "outputs": [],
   "source": [
    "def positional_encoding(vocab_len, d_model):\n",
    "    j = np.arange(d_model)\n",
    "    Encodings = np.zeros((vocab_len, d_model))\n",
    "    for p in range(vocab_len):\n",
    "        Encodings[p][0::2] +=  np.sin(p/np.power(10000,2*j[0::2]/d_model))\n",
    "        Encodings[p][1::2] +=  np.cos(p/np.power(10000,2*j[0::2]/d_model))\n",
    "    return Encodings"
   ]
  },
  {
   "cell_type": "code",
   "execution_count": 5,
   "metadata": {},
   "outputs": [],
   "source": [
    "df_train.columns\n",
    "\n",
    "x_train = df_train[\"article\"].reshape()\n",
    "y_train = df_train[\"highlights\"]\n",
    "\n",
    "x_test = df_valid[\"article\"]\n",
    "y_test = df_valid[\"highlights\"]"
   ]
  },
  {
   "cell_type": "code",
   "execution_count": 7,
   "metadata": {},
   "outputs": [
    {
     "data": {
      "text/plain": [
       "(287113,)"
      ]
     },
     "execution_count": 7,
     "metadata": {},
     "output_type": "execute_result"
    }
   ],
   "source": [
    "x_train.shape"
   ]
  },
  {
   "cell_type": "code",
   "execution_count": null,
   "metadata": {},
   "outputs": [],
   "source": []
  },
  {
   "cell_type": "code",
   "execution_count": 3,
   "metadata": {},
   "outputs": [
    {
     "ename": "NameError",
     "evalue": "name 'test_words' is not defined",
     "output_type": "error",
     "traceback": [
      "\u001b[1;31m---------------------------------------------------------------------------\u001b[0m",
      "\u001b[1;31mNameError\u001b[0m                                 Traceback (most recent call last)",
      "Cell \u001b[1;32mIn[3], line 1\u001b[0m\n\u001b[1;32m----> 1\u001b[0m model \u001b[38;5;241m=\u001b[39m Transformer(\u001b[43mtest_words\u001b[49m\u001b[38;5;241m.\u001b[39mshape[\u001b[38;5;241m1\u001b[39m:],test_words\u001b[38;5;241m.\u001b[39mshape[\u001b[38;5;241m1\u001b[39m:],\u001b[38;5;241m10\u001b[39m,\u001b[38;5;241m1000\u001b[39m)\n\u001b[0;32m      2\u001b[0m model \u001b[38;5;241m=\u001b[39m model\u001b[38;5;241m.\u001b[39mtransformer()\n",
      "\u001b[1;31mNameError\u001b[0m: name 'test_words' is not defined"
     ]
    }
   ],
   "source": [
    "model = Transformer(df_train.shape[1:],test_words.shape[1:],10,1000)\n",
    "model = model.transformer()"
   ]
  },
  {
   "cell_type": "code",
   "execution_count": null,
   "metadata": {},
   "outputs": [],
   "source": []
  }
 ],
 "metadata": {
  "kernelspec": {
   "display_name": "Python 3",
   "language": "python",
   "name": "python3"
  },
  "language_info": {
   "codemirror_mode": {
    "name": "ipython",
    "version": 3
   },
   "file_extension": ".py",
   "mimetype": "text/x-python",
   "name": "python",
   "nbconvert_exporter": "python",
   "pygments_lexer": "ipython3",
   "version": "3.12.4"
  }
 },
 "nbformat": 4,
 "nbformat_minor": 2
}
